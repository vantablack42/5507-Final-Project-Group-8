{
 "cells": [
  {
   "cell_type": "code",
   "execution_count": 1,
   "metadata": {},
   "outputs": [],
   "source": [
    "import requests\n",
    "from bs4 import BeautifulSoup\n",
    "import easyocr\n",
    "import re\n",
    "\n",
    "\n",
    "def clean_text(text):\n",
    "    # 去除表情符号和多余的空格\n",
    "    # 使用正则表达式去除表情符号\n",
    "    text = re.sub(r'[\\U0001F600-\\U0001F64F'  # emoticons\n",
    "                   r'\\U0001F300-\\U0001F5FF'  # symbols & pictographs\n",
    "                   r'\\U0001F680-\\U0001F6FF'  # transport & map symbols\n",
    "                   r'\\U0001F700-\\U0001F77F'  # alchemical symbols\n",
    "                   r'\\U0001F780-\\U0001F7FF'  # Geometric Shapes Extended\n",
    "                   r'\\U0001F800-\\U0001F8FF'  # Supplemental Arrows-C\n",
    "                   r'\\U0001F900-\\U0001F9FF'  # Supplemental Symbols and Pictographs\n",
    "                   r'\\U0001FA00-\\U0001FA6F'  # Chess Symbols\n",
    "                   r'\\U0001FA70-\\U0001FAFF'  # Symbols and Pictographs Extended-A\n",
    "                   r'\\u2600-\\u26FF'          # Miscellaneous Symbols\n",
    "                   r'\\u2700-\\u27BF'          # Dingbats\n",
    "                   r'\\u2B50'                 # Star\n",
    "                   r']+', '', text)  # Remove emojis\n",
    "\n",
    "    # 去除多余空格\n",
    "    text = ' '.join(text.split())\n",
    "    \n",
    "    return text\n",
    "\n",
    "\n",
    "def ocr_image(image_url):\n",
    "    headers = {\n",
    "        \"User-Agent\": \"Mozilla/5.0 (Windows NT 10.0; Win64; x64) AppleWebKit/537.36 (KHTML, like Gecko) Chrome/91.0.4472.124 Safari/537.36\",\n",
    "    }\n",
    "    response = requests.get(image_url, headers=headers, stream=True)\n",
    "    if response.status_code == 200:\n",
    "        reader = easyocr.Reader(['ch_sim', 'en'])  # 简体中文和英文\n",
    "        text = reader.readtext(response.content, detail=0)  # 只返回文字\n",
    "        cleaned_text = clean_text(\" \".join(text))\n",
    "        return \" \".join(text)\n",
    "    else:\n",
    "        raise Exception(f\"Failed to download image: {response.status_code}\")"
   ]
  },
  {
   "cell_type": "code",
   "execution_count": 2,
   "metadata": {},
   "outputs": [
    {
     "name": "stderr",
     "output_type": "stream",
     "text": [
      "Neither CUDA nor MPS are available - defaulting to CPU. Note: This module is much faster with a GPU.\n"
     ]
    },
    {
     "name": "stdout",
     "output_type": "stream",
     "text": [
      "https://img1.doubanio.com/view/group_topic/l/public/p372564899.jpg\n"
     ]
    },
    {
     "name": "stderr",
     "output_type": "stream",
     "text": [
      "Neither CUDA nor MPS are available - defaulting to CPU. Note: This module is much faster with a GPU.\n"
     ]
    },
    {
     "name": "stdout",
     "output_type": "stream",
     "text": [
      "OCR识别结果: 被诈骗十多万,天都塌了 我本来好好的生活,离职之后来广州找工 作,存款三万左右,刚找到一份工作。试 用期都没过 , 在豆瓣看到骗子发布的兼 职,被套路骗了十万,那骗子现在还联系 我催我继续砸钱。 这几天心情很糟糕, 没怎么吃饭 , 豆友们 可以安慰我 , 或者分析方法。先别急着骂 我,因为最近已经脆弱到承受不住批评 了。\n",
      "https://img3.doubanio.com/view/group_topic/l/public/p372564952.jpg\n"
     ]
    },
    {
     "name": "stderr",
     "output_type": "stream",
     "text": [
      "Neither CUDA nor MPS are available - defaulting to CPU. Note: This module is much faster with a GPU.\n"
     ]
    },
    {
     "name": "stdout",
     "output_type": "stream",
     "text": [
      "OCR识别结果: 已经报警了 ; 但估计钱拿不回来了。 片子套路真的牛逼; 先建立信任 , 再一步 步把你拉进深渊。 我把被骗的过程写出来 , 大家引以为戒。 首先是一个目测是女的骗子在豆瓣发布兼 职信息。说什么抖音点赞一条三元。做手 工艺,商城打榜一单5-10元。我联系了这 个骗子。加了她的Q0,把我拉进一个群, 好多人在里面分享晒单 (现在看来都是 托) ,进群的几夭我啥也没做, 几天后我\n",
      "https://img9.doubanio.com/view/group_topic/l/public/p372564856.jpg\n",
      "OCR识别结果: 托) ,进群的几天我啥也没做,几天后我 尝试了抖音给人点赞, 真的有三块钱进 账,后来群里发逋知说这个抖音点赞任务 暂时没有了,只剩下商城打榜和手工艺 品,这时那个女骗子私聊我说推荐做商场 打榜,给我分享了个链接下载软件,这个 软件叫\"金运通\",我在网上是可以查到这个 公司的, 而且骗子还给我发了营业执照和 办公环境,在加上群里每夭有人晒单。我 就相信了。后面弄清楚了任务规则 , 要先 充值500的本金到平台,然后就可以匹配拼\n",
      "https://img9.doubanio.com/view/group_topic/l/public/p372565006.jpg\n"
     ]
    },
    {
     "name": "stderr",
     "output_type": "stream",
     "text": [
      "Neither CUDA nor MPS are available - defaulting to CPU. Note: This module is much faster with a GPU.\n",
      "Neither CUDA nor MPS are available - defaulting to CPU. Note: This module is much faster with a GPU.\n"
     ]
    },
    {
     "name": "stdout",
     "output_type": "stream",
     "text": [
      "OCR识别结果: 充值500的本金到平台 然后就可以匹配拼 多多单子,要大概二十分钟匹配完成, 完 成后本金会自动返还到你绑定的银行卡 , 但是返还到金额不一定是你的本金,有时 多点有时少点, 多的情况是每一单有几块 到十几块不等的佣金; 和本金一起返还到 卡里。但不会全部返还。我2号做了一单; 充值了500 , 返还了499 , 软件上的余额还 有点佣金。3号我继续做, 陆陆续续有返 还; 所以我毫无防备走近深渊 O\n",
      "https://img3.doubanio.com/view/group_topic/l/public/p372564923.jpg\n",
      "OCR识别结果: 4号的时候我匹配单子完成后突然发现软件 上余额娈成了负数!负的一千多, 吓了一 跳。赶紧问客服 , 客服说我匹配到任务 单,要把余额充正就可以返款到银行卡 里。我又到00群一问, 大家都说我运气好 才能匹配到大单 佣金比别人高, 用金比别人高,叫我感 觉充正就好了。 我充正了, 钱返回卡上了 , 但只返了几 百,软件上余额还有 , 我就继续匹配; 匹 配到上万的单子, 客服说我匹配到福利\n",
      "https://img9.doubanio.com/view/group_topic/l/public/p372564835.jpg\n"
     ]
    },
    {
     "name": "stderr",
     "output_type": "stream",
     "text": [
      "Neither CUDA nor MPS are available - defaulting to CPU. Note: This module is much faster with a GPU.\n"
     ]
    },
    {
     "name": "stdout",
     "output_type": "stream",
     "text": [
      "OCR识别结果: 配到上万的单子, 客服说我匹配到福利 单,要连续做三单才能一次性结算返还金 额; 我就这样被忽悠连续做了三单上万甚 至几万的单子。这还是我掏空了存款还借 朋友的,我心想完成了之后拿到返款再也 不碰了,太吓人了!谁知道连续儆完三单 系统已经显示配单完成了 , 账上还是好几 万负数, 客服叫我充正才能返款 而且必须 当夭晚上十点前, 不然超时。跟客服商量 了一下。答应我先充值40%, 其他的第二 夭中午12点前补齐就可以返款了。我已经\n",
      "https://img9.doubanio.com/view/group_topic/l/public/p372564984.jpg\n"
     ]
    },
    {
     "name": "stderr",
     "output_type": "stream",
     "text": [
      "Neither CUDA nor MPS are available - defaulting to CPU. Note: This module is much faster with a GPU.\n"
     ]
    },
    {
     "name": "stdout",
     "output_type": "stream",
     "text": [
      "OCR识别结果: 夭中午12点前补齐就可以返款了。我已经 借遍了朋友。实在没钱了,这时那个女骗 子跟我说可以借我五千,但是拿到钱一定 马上给她还回去。我答应了 , 代价是发了 我的身份证照片。不过她的钱没经过我的 手。打到客服发给我的账号上; 由我把转 账截图发给客服, 这样就算以我的名义转 的。然后这个女骗子还给我出主意去借 钱,赶紧把账户充会正数把钱拿回来, 还 叫我去网贷!我这头蠢驴还真的去了!我 在微博借钱 , 分期乐和怕拍贷上借了两万\n",
      "https://img1.doubanio.com/view/group_topic/l/public/p372564999.jpg\n"
     ]
    },
    {
     "name": "stderr",
     "output_type": "stream",
     "text": [
      "Neither CUDA nor MPS are available - defaulting to CPU. Note: This module is much faster with a GPU.\n"
     ]
    },
    {
     "name": "stdout",
     "output_type": "stream",
     "text": [
      "OCR识别结果: 在微博借钱 分期乐和怕拍贷上借了两万 多,幸亏其他借贷平台没给我额度,不然 还不知道我要做出什么傻事来。笫二天终 于把钱打回去充平账户了,以为钱能拿回 来了!结果客服说返款失败。因为我超时 完成任务。要所做一个超时任务,衽客服 和片子还有群里人三方的哄骗下,我又做 了一个几万的超时任务 , 以为终于能拿回 本金了,结果客服告诉我审核时发现我的 任务进度只完成99%,。还要再做一个任 务。那个任务又是五万多!我巳经意识到\n",
      "https://img1.doubanio.com/view/group_topic/l/public/p372564888.jpg\n"
     ]
    },
    {
     "name": "stderr",
     "output_type": "stream",
     "text": [
      "Neither CUDA nor MPS are available - defaulting to CPU. Note: This module is much faster with a GPU.\n"
     ]
    },
    {
     "name": "stdout",
     "output_type": "stream",
     "text": [
      "OCR识别结果: 务,那个任务又是五万多! 我已经意识到 是坑了,但是抱着一种侥幸心理 , 好想把 钱拿回来!然后我去群里问大家有没有同 样的情况,这时有个人说他之前也遇到了 超时任务只完成88%, 然后他又做了一单 才把钱拿回来, 还把截图发给我看!然后 我在群里说实在没钱了,让大家帮帮忙, 佣金我全部分给大家, 只要拿回本金。这 时那个给我截图的人说看我太可怜愿意借 我出三分之一,但前提是我先把其余部分\n",
      "https://img1.doubanio.com/view/group_topic/l/public/p372564849.jpg\n"
     ]
    },
    {
     "name": "stderr",
     "output_type": "stream",
     "text": [
      "Neither CUDA nor MPS are available - defaulting to CPU. Note: This module is much faster with a GPU.\n"
     ]
    },
    {
     "name": "stdout",
     "output_type": "stream",
     "text": [
      "OCR识别结果: 我出三分之一, 但前提是我先把其余部分 凑齐,群友还叫我去借钱或者抵押,我去 找了那个拉我进群的女骗子, 她也叫我去 贷款。我质疑她是诈骗 ,然后她说她也是 兼职的,只是我填的平台邀请号是她的; 我做任务她也有佣金; 表示会帮我,不然 她之前借给我的五千块也拿不回来。她说 帮我去借到一万块!这样我还差两万左 右! 然后我去找同学借钱 , 这时一个同学点醒 了我,他说怀疑我遇到诈骗或者危险, 让 我跟家人说一下。\n",
      "https://img3.doubanio.com/view/group_topic/l/public/p372564937.jpg\n"
     ]
    },
    {
     "name": "stderr",
     "output_type": "stream",
     "text": [
      "Neither CUDA nor MPS are available - defaulting to CPU. Note: This module is much faster with a GPU.\n",
      "Neither CUDA nor MPS are available - defaulting to CPU. Note: This module is much faster with a GPU.\n"
     ]
    },
    {
     "name": "stdout",
     "output_type": "stream",
     "text": [
      "OCR识别结果: 我不敢跟家人说,怕父母承受不住, 打电 话给姐姐; 被骂的狗血淋头,怀疑我被人 绑架或者换了脑子! 然后我报了警, 整个人都在发抖 跟警察 说先不要骂我; 让我把事情说一下。然后 民警来接我去派出所, 从晚上七点半待到 半夜一点半, 一整天滴米未进, 整个人恍 恍惚惚。又冷又饿。感觉随时昏倒。警察 又把我训了一顿。那是我活该。半夜回到 家里睡不着,好不容易睡着了又被噩梦吓 醒。梦见自己欠了好多高利贷。梦见那个 女骗子拿着我的身份证照片去做坏事威胁 我!\n",
      "https://img3.doubanio.com/view/group_topic/l/public/p372564873.jpg\n",
      "OCR识别结果: 然后醒来; 想对策。不盘点不知道,在警 察局做笔录的时候, 才发现我前后给骗子 转了三十次; 一共十万多!和我姐借了钱 把网贷还了,还剩一个暂时不能提前还款 的分期乐,估计两个月后才能提前还款 ; 还把比较急用钱的债主的钱给还了。目前 分期乐加上欠同学的钱大概三万, 其余好 几万都是欠姐姐的。真的很对不起姐姐 , 她本来打算攒钱买房的, 结果被我这个事 情吓到精神恍惚, 把仅有的几万块都借给 我还钱, 自己只能靠着男朋友赞助的两千 块过日子。\n",
      "https://img3.doubanio.com/view/group_topic/l/public/p372564967.jpg\n"
     ]
    },
    {
     "name": "stderr",
     "output_type": "stream",
     "text": [
      "Neither CUDA nor MPS are available - defaulting to CPU. Note: This module is much faster with a GPU.\n"
     ]
    },
    {
     "name": "stdout",
     "output_type": "stream",
     "text": [
      "OCR识别结果: 我这两天都精神恍惚, 好像活在梦里, 当 时承诺同学下周还钱 , 现在还没还完,内 心很焦虑 , 但是也不敢打扰姐姐了。想到 同龄人别人都准备买车买房了,我却还是 负债还拖累了姐姐, 内心很压抑。 现在的工作还不稳定 ,估计欠同学的钱年 前还不上了,现在好像下了班再去打一份 工还债。但是男朋友劝我不要他逼自己; 现在精神恍惚的状态下什么都做不好,好 好工作,好好吃饭,钱总能还上的 但他 不知道我内心有多焦急! 二十多年都没跟\n",
      "https://img3.doubanio.com/view/group_topic/l/public/p372564913.jpg\n"
     ]
    },
    {
     "name": "stderr",
     "output_type": "stream",
     "text": [
      "Neither CUDA nor MPS are available - defaulting to CPU. Note: This module is much faster with a GPU.\n"
     ]
    },
    {
     "name": "stdout",
     "output_type": "stream",
     "text": [
      "OCR识别结果: 不知道我内心有多焦急 ! 二十多年都没跟 别人借过钱的我 简直如坐针毡,还不敢 跟人说我被诈骗了 , 现在只有我和男朋 友,我姐和她男朋友四个人知道。 0 今天上班很没有精神 , 又看到那个女骗子 微信给我发消息问我筹到钱了没有 , 非常 刺眼! 没有删掉她是因为怕警方后面还需 要什么信息 , 删掉之后聊夭记录啥的都没 了。 骗子防不胜防 , 可能这是我的动数吧,本 命年千啥都不顺利 0\n"
     ]
    }
   ],
   "source": [
    "\n",
    "url = \"https://www.douban.com/group/topic/203795724/?_i=2807961Gf8N7P1\"\n",
    "\n",
    "headers = {\n",
    "    \"User-Agent\": \"Mozilla/5.0 (Windows NT 10.0; Win64; x64) AppleWebKit/537.36 (KHTML, like Gecko) Chrome/91.0.4472.124 Safari/537.36\",\n",
    "    \"Accept-Language\": \"en-US,en;q=0.9\",\n",
    "    \"Accept-Encoding\": \"gzip, deflate, br\",\n",
    "}\n",
    "\n",
    "response = requests.get(url, headers=headers)\n",
    "\n",
    "if response.status_code == 200:\n",
    "    html_content = response.text\n",
    "    soup = BeautifulSoup(html_content, 'html.parser')\n",
    "\n",
    "    # 查找正文中的图片\n",
    "    image_tags = soup.select('#link-report .topic-content img')\n",
    "    image_urls = [img['src'] for img in image_tags]\n",
    "\n",
    "    if image_urls:\n",
    "        for img_url in image_urls:\n",
    "            print(img_url)\n",
    "            try:\n",
    "                text = ocr_image(img_url)\n",
    "                print(f\"OCR识别结果: {text}\")\n",
    "            except Exception as e:\n",
    "                print(e)\n",
    "    else:\n",
    "        print(\"未找到图片\")\n",
    "else:\n",
    "    print(f\"请求失败，状态码: {response.status_code}\")"
   ]
  }
 ],
 "metadata": {
  "kernelspec": {
   "display_name": "base",
   "language": "python",
   "name": "python3"
  },
  "language_info": {
   "codemirror_mode": {
    "name": "ipython",
    "version": 3
   },
   "file_extension": ".py",
   "mimetype": "text/x-python",
   "name": "python",
   "nbconvert_exporter": "python",
   "pygments_lexer": "ipython3",
   "version": "3.12.4"
  }
 },
 "nbformat": 4,
 "nbformat_minor": 2
}
